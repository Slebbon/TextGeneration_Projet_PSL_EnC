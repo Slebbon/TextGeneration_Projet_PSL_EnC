{
 "cells": [
  {
   "cell_type": "code",
   "execution_count": 2,
   "metadata": {},
   "outputs": [
    {
     "name": "stderr",
     "output_type": "stream",
     "text": [
      "C:\\Users\\marco\\AppData\\Local\\Packages\\PythonSoftwareFoundation.Python.3.11_qbz5n2kfra8p0\\LocalCache\\local-packages\\Python311\\site-packages\\sentence_transformers\\cross_encoder\\CrossEncoder.py:11: TqdmWarning: IProgress not found. Please update jupyter and ipywidgets. See https://ipywidgets.readthedocs.io/en/stable/user_install.html\n",
      "  from tqdm.autonotebook import tqdm, trange\n"
     ]
    },
    {
     "name": "stdout",
     "output_type": "stream",
     "text": [
      "WARNING:tensorflow:From C:\\Users\\marco\\AppData\\Local\\Packages\\PythonSoftwareFoundation.Python.3.11_qbz5n2kfra8p0\\LocalCache\\local-packages\\Python311\\site-packages\\keras\\src\\losses.py:2976: The name tf.losses.sparse_softmax_cross_entropy is deprecated. Please use tf.compat.v1.losses.sparse_softmax_cross_entropy instead.\n",
      "\n"
     ]
    }
   ],
   "source": [
    "import pandas as pd\n",
    "from sentence_transformers import SentenceTransformer\n",
    "import torch"
   ]
  },
  {
   "cell_type": "code",
   "execution_count": 5,
   "metadata": {},
   "outputs": [
    {
     "name": "stderr",
     "output_type": "stream",
     "text": [
      "C:\\Users\\marco\\AppData\\Local\\Packages\\PythonSoftwareFoundation.Python.3.11_qbz5n2kfra8p0\\LocalCache\\local-packages\\Python311\\site-packages\\huggingface_hub\\file_download.py:157: UserWarning: `huggingface_hub` cache-system uses symlinks by default to efficiently store duplicated files but your machine does not support them in C:\\Users\\marco\\.cache\\huggingface\\hub\\models--sentence-transformers--paraphrase-MiniLM-L6-v2. Caching files will still work but in a degraded version that might require more space on your disk. This warning can be disabled by setting the `HF_HUB_DISABLE_SYMLINKS_WARNING` environment variable. For more details, see https://huggingface.co/docs/huggingface_hub/how-to-cache#limitations.\n",
      "To support symlinks on Windows, you either need to activate Developer Mode or to run Python as an administrator. In order to see activate developer mode, see this article: https://docs.microsoft.com/en-us/windows/apps/get-started/enable-your-device-for-development\n",
      "  warnings.warn(message)\n",
      "C:\\Users\\marco\\AppData\\Local\\Packages\\PythonSoftwareFoundation.Python.3.11_qbz5n2kfra8p0\\LocalCache\\local-packages\\Python311\\site-packages\\huggingface_hub\\file_download.py:1132: FutureWarning: `resume_download` is deprecated and will be removed in version 1.0.0. Downloads always resume when possible. If you want to force a new download, use `force_download=True`.\n",
      "  warnings.warn(\n"
     ]
    }
   ],
   "source": [
    "# Chargement du modèle SentenceTransformer\n",
    "model = SentenceTransformer('paraphrase-MiniLM-L6-v2')"
   ]
  },
  {
   "cell_type": "code",
   "execution_count": 3,
   "metadata": {},
   "outputs": [],
   "source": [
    "def extract_embeddings(df, text_column):\n",
    "    \"\"\"\n",
    "    Extrait les embeddings des textes d'une colonne spécifique d'un DataFrame.\n",
    "    \n",
    "    Args:\n",
    "    df (pd.DataFrame): Le DataFrame contenant les textes.\n",
    "    text_column (str): Le nom de la colonne contenant les textes à partir desquels extraire les embeddings.\n",
    "    \n",
    "    Returns:\n",
    "    pd.DataFrame: Un nouveau DataFrame avec une colonne supplémentaire pour les embeddings.\n",
    "    \"\"\"\n",
    "    # Calculer les embeddings pour tous les textes dans la colonne spécifiée\n",
    "    embeddings = model.encode(df[text_column].tolist(), convert_to_tensor=True)\n",
    "    \n",
    "    # Ajouter une nouvelle colonne pour les embeddings dans le DataFrame\n",
    "    df['embeddings'] = embeddings.tolist()\n",
    "    \n",
    "    return df\n"
   ]
  },
  {
   "cell_type": "code",
   "execution_count": 6,
   "metadata": {},
   "outputs": [],
   "source": [
    "test_df = pd.read_csv(r'C:\\Users\\marco\\OneDrive\\Desktop\\TXTgeneration\\Dataset\\Divided_Dataset\\test.csv')\n",
    "test_df = extract_embeddings(test_df, 'Text')"
   ]
  },
  {
   "cell_type": "code",
   "execution_count": 7,
   "metadata": {},
   "outputs": [
    {
     "data": {
      "text/html": [
       "<div>\n",
       "<style scoped>\n",
       "    .dataframe tbody tr th:only-of-type {\n",
       "        vertical-align: middle;\n",
       "    }\n",
       "\n",
       "    .dataframe tbody tr th {\n",
       "        vertical-align: top;\n",
       "    }\n",
       "\n",
       "    .dataframe thead th {\n",
       "        text-align: right;\n",
       "    }\n",
       "</style>\n",
       "<table border=\"1\" class=\"dataframe\">\n",
       "  <thead>\n",
       "    <tr style=\"text-align: right;\">\n",
       "      <th></th>\n",
       "      <th>Text</th>\n",
       "      <th>Author</th>\n",
       "      <th>embeddings</th>\n",
       "    </tr>\n",
       "  </thead>\n",
       "  <tbody>\n",
       "    <tr>\n",
       "      <th>0</th>\n",
       "      <td>You tempt him over-much.</td>\n",
       "      <td>Shakespeare</td>\n",
       "      <td>[0.37097063660621643, 0.7262800931930542, 0.59...</td>\n",
       "    </tr>\n",
       "    <tr>\n",
       "      <th>1</th>\n",
       "      <td>Who, I? why, he'll answer nobody, he professes...</td>\n",
       "      <td>Shakespeare</td>\n",
       "      <td>[0.3414524793624878, 0.18389755487442017, -0.2...</td>\n",
       "    </tr>\n",
       "    <tr>\n",
       "      <th>2</th>\n",
       "      <td>Here stands the spring whom you have stain'd w...</td>\n",
       "      <td>Shakespeare</td>\n",
       "      <td>[-0.32627829909324646, 0.14017976820468903, 0....</td>\n",
       "    </tr>\n",
       "    <tr>\n",
       "      <th>3</th>\n",
       "      <td>Shame that they wanted cunning, in excess</td>\n",
       "      <td>Shakespeare</td>\n",
       "      <td>[-0.02564176358282566, 0.8730641603469849, -0....</td>\n",
       "    </tr>\n",
       "    <tr>\n",
       "      <th>4</th>\n",
       "      <td>Sit still, and hear the last of our sea-sorrow.</td>\n",
       "      <td>Shakespeare</td>\n",
       "      <td>[0.40475454926490784, 0.026646967977285385, 0....</td>\n",
       "    </tr>\n",
       "  </tbody>\n",
       "</table>\n",
       "</div>"
      ],
      "text/plain": [
       "                                                Text       Author  \\\n",
       "0                           You tempt him over-much.  Shakespeare   \n",
       "1  Who, I? why, he'll answer nobody, he professes...  Shakespeare   \n",
       "2  Here stands the spring whom you have stain'd w...  Shakespeare   \n",
       "3          Shame that they wanted cunning, in excess  Shakespeare   \n",
       "4    Sit still, and hear the last of our sea-sorrow.  Shakespeare   \n",
       "\n",
       "                                          embeddings  \n",
       "0  [0.37097063660621643, 0.7262800931930542, 0.59...  \n",
       "1  [0.3414524793624878, 0.18389755487442017, -0.2...  \n",
       "2  [-0.32627829909324646, 0.14017976820468903, 0....  \n",
       "3  [-0.02564176358282566, 0.8730641603469849, -0....  \n",
       "4  [0.40475454926490784, 0.026646967977285385, 0....  "
      ]
     },
     "execution_count": 7,
     "metadata": {},
     "output_type": "execute_result"
    }
   ],
   "source": [
    "test_df.head()"
   ]
  },
  {
   "cell_type": "code",
   "execution_count": 8,
   "metadata": {},
   "outputs": [],
   "source": [
    "test_df.to_csv(\"embedding_test.csv\")"
   ]
  }
 ],
 "metadata": {
  "kernelspec": {
   "display_name": "Python 3",
   "language": "python",
   "name": "python3"
  },
  "language_info": {
   "codemirror_mode": {
    "name": "ipython",
    "version": 3
   },
   "file_extension": ".py",
   "mimetype": "text/x-python",
   "name": "python",
   "nbconvert_exporter": "python",
   "pygments_lexer": "ipython3",
   "version": "3.11.9"
  }
 },
 "nbformat": 4,
 "nbformat_minor": 2
}
