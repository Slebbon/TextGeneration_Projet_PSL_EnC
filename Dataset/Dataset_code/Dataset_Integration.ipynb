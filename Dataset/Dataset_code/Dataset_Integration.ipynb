{
 "cells": [
  {
   "cell_type": "markdown",
   "metadata": {},
   "source": [
    "# **DATASET**: Integration pour Classifier"
   ]
  },
  {
   "cell_type": "markdown",
   "metadata": {},
   "source": [
    "Pour créer un classificateur, nous avons complété notre ensemble de données par un ensemble supplémentaire de phrases anglaises aléatoires, ce qui permet à notre modèle de disposer de connaissances lui permettant de déterminer si l'invite provient de Trump, de Shakespeare ou d'une autre source."
   ]
  },
  {
   "cell_type": "markdown",
   "metadata": {},
   "source": [
    "### Importation des **librairies** et des variables nécessaires"
   ]
  },
  {
   "cell_type": "code",
   "execution_count": 1,
   "metadata": {},
   "outputs": [],
   "source": [
    "import pandas as pd\n",
    "import numpy as np\n",
    "import matplotlib.pyplot as plt\n",
    "import seaborn as sns\n",
    "import os"
   ]
  },
  {
   "cell_type": "markdown",
   "metadata": {},
   "source": [
    "### Création d'ensembles de données"
   ]
  },
  {
   "cell_type": "code",
   "execution_count": 2,
   "metadata": {},
   "outputs": [],
   "source": [
    "df_path = r'C:\\Users\\marco\\OneDrive\\Desktop\\TXTgeneration\\train-00000-of-00001.parquet'\n",
    "df_path_original = r'C:\\Users\\marco\\OneDrive\\Desktop\\TXTgeneration\\Dataset\\Balanced_dataset.csv'"
   ]
  },
  {
   "cell_type": "code",
   "execution_count": 3,
   "metadata": {},
   "outputs": [],
   "source": [
    "other_df = pd.read_parquet(df_path)"
   ]
  },
  {
   "cell_type": "code",
   "execution_count": 4,
   "metadata": {},
   "outputs": [],
   "source": [
    "other_df['Author'] = 'Other'"
   ]
  },
  {
   "cell_type": "code",
   "execution_count": 5,
   "metadata": {},
   "outputs": [],
   "source": [
    "other_df = other_df.rename(columns={'english' : 'Text'})"
   ]
  },
  {
   "cell_type": "code",
   "execution_count": 6,
   "metadata": {},
   "outputs": [],
   "source": [
    "other_df = other_df.drop(columns=['non_english'])"
   ]
  },
  {
   "cell_type": "code",
   "execution_count": 7,
   "metadata": {},
   "outputs": [
    {
     "data": {
      "text/html": [
       "<div>\n",
       "<style scoped>\n",
       "    .dataframe tbody tr th:only-of-type {\n",
       "        vertical-align: middle;\n",
       "    }\n",
       "\n",
       "    .dataframe tbody tr th {\n",
       "        vertical-align: top;\n",
       "    }\n",
       "\n",
       "    .dataframe thead th {\n",
       "        text-align: right;\n",
       "    }\n",
       "</style>\n",
       "<table border=\"1\" class=\"dataframe\">\n",
       "  <thead>\n",
       "    <tr style=\"text-align: right;\">\n",
       "      <th></th>\n",
       "      <th>Text</th>\n",
       "      <th>Author</th>\n",
       "    </tr>\n",
       "  </thead>\n",
       "  <tbody>\n",
       "    <tr>\n",
       "      <th>0</th>\n",
       "      <td>$10,000 Gold?</td>\n",
       "      <td>Other</td>\n",
       "    </tr>\n",
       "    <tr>\n",
       "      <th>1</th>\n",
       "      <td>SAN FRANCISCO – It has never been easy to have...</td>\n",
       "      <td>Other</td>\n",
       "    </tr>\n",
       "    <tr>\n",
       "      <th>2</th>\n",
       "      <td>Lately, with gold prices up more than 300% ove...</td>\n",
       "      <td>Other</td>\n",
       "    </tr>\n",
       "    <tr>\n",
       "      <th>3</th>\n",
       "      <td>Just last December, fellow economists Martin F...</td>\n",
       "      <td>Other</td>\n",
       "    </tr>\n",
       "    <tr>\n",
       "      <th>4</th>\n",
       "      <td>Wouldn’t you know it?</td>\n",
       "      <td>Other</td>\n",
       "    </tr>\n",
       "    <tr>\n",
       "      <th>...</th>\n",
       "      <td>...</td>\n",
       "      <td>...</td>\n",
       "    </tr>\n",
       "    <tr>\n",
       "      <th>214966</th>\n",
       "      <td>Orphans, whose number has increased sharply ov...</td>\n",
       "      <td>Other</td>\n",
       "    </tr>\n",
       "    <tr>\n",
       "      <th>214967</th>\n",
       "      <td>Having lost their homes and parents, they slee...</td>\n",
       "      <td>Other</td>\n",
       "    </tr>\n",
       "    <tr>\n",
       "      <th>214968</th>\n",
       "      <td>Grandparents are often unable or unwilling to ...</td>\n",
       "      <td>Other</td>\n",
       "    </tr>\n",
       "    <tr>\n",
       "      <th>214969</th>\n",
       "      <td>Simply put, children in Iraq have been reduced...</td>\n",
       "      <td>Other</td>\n",
       "    </tr>\n",
       "    <tr>\n",
       "      <th>214970</th>\n",
       "      <td>We are quite literally breeding a new generati...</td>\n",
       "      <td>Other</td>\n",
       "    </tr>\n",
       "  </tbody>\n",
       "</table>\n",
       "<p>214971 rows × 2 columns</p>\n",
       "</div>"
      ],
      "text/plain": [
       "                                                     Text Author\n",
       "0                                           $10,000 Gold?  Other\n",
       "1       SAN FRANCISCO – It has never been easy to have...  Other\n",
       "2       Lately, with gold prices up more than 300% ove...  Other\n",
       "3       Just last December, fellow economists Martin F...  Other\n",
       "4                                   Wouldn’t you know it?  Other\n",
       "...                                                   ...    ...\n",
       "214966  Orphans, whose number has increased sharply ov...  Other\n",
       "214967  Having lost their homes and parents, they slee...  Other\n",
       "214968  Grandparents are often unable or unwilling to ...  Other\n",
       "214969  Simply put, children in Iraq have been reduced...  Other\n",
       "214970  We are quite literally breeding a new generati...  Other\n",
       "\n",
       "[214971 rows x 2 columns]"
      ]
     },
     "execution_count": 7,
     "metadata": {},
     "output_type": "execute_result"
    }
   ],
   "source": [
    "other_df"
   ]
  },
  {
   "cell_type": "markdown",
   "metadata": {},
   "source": [
    "### Intégration de l'ensemble de données supplémentaires"
   ]
  },
  {
   "cell_type": "code",
   "execution_count": 8,
   "metadata": {},
   "outputs": [],
   "source": [
    "df = pd.read_csv(df_path_original)"
   ]
  },
  {
   "cell_type": "code",
   "execution_count": 9,
   "metadata": {},
   "outputs": [],
   "source": [
    "df = pd.concat([df, other_df], axis=0, ignore_index=True)"
   ]
  },
  {
   "cell_type": "code",
   "execution_count": 10,
   "metadata": {},
   "outputs": [
    {
     "data": {
      "text/html": [
       "<div>\n",
       "<style scoped>\n",
       "    .dataframe tbody tr th:only-of-type {\n",
       "        vertical-align: middle;\n",
       "    }\n",
       "\n",
       "    .dataframe tbody tr th {\n",
       "        vertical-align: top;\n",
       "    }\n",
       "\n",
       "    .dataframe thead th {\n",
       "        text-align: right;\n",
       "    }\n",
       "</style>\n",
       "<table border=\"1\" class=\"dataframe\">\n",
       "  <thead>\n",
       "    <tr style=\"text-align: right;\">\n",
       "      <th></th>\n",
       "      <th>Author</th>\n",
       "      <th>Text</th>\n",
       "    </tr>\n",
       "  </thead>\n",
       "  <tbody>\n",
       "    <tr>\n",
       "      <th>0</th>\n",
       "      <td>Trump</td>\n",
       "      <td>Today we express our deepest gratitude to all ...</td>\n",
       "    </tr>\n",
       "    <tr>\n",
       "      <th>1</th>\n",
       "      <td>Trump</td>\n",
       "      <td>Busy day planned in New York. Will soon be mak...</td>\n",
       "    </tr>\n",
       "    <tr>\n",
       "      <th>2</th>\n",
       "      <td>Trump</td>\n",
       "      <td>Love the fact that the small groups of protest...</td>\n",
       "    </tr>\n",
       "    <tr>\n",
       "      <th>3</th>\n",
       "      <td>Trump</td>\n",
       "      <td>Just had a very open and successful presidenti...</td>\n",
       "    </tr>\n",
       "    <tr>\n",
       "      <th>4</th>\n",
       "      <td>Trump</td>\n",
       "      <td>A fantastic day in D.C. Met with President Oba...</td>\n",
       "    </tr>\n",
       "    <tr>\n",
       "      <th>...</th>\n",
       "      <td>...</td>\n",
       "      <td>...</td>\n",
       "    </tr>\n",
       "    <tr>\n",
       "      <th>245045</th>\n",
       "      <td>Other</td>\n",
       "      <td>Orphans, whose number has increased sharply ov...</td>\n",
       "    </tr>\n",
       "    <tr>\n",
       "      <th>245046</th>\n",
       "      <td>Other</td>\n",
       "      <td>Having lost their homes and parents, they slee...</td>\n",
       "    </tr>\n",
       "    <tr>\n",
       "      <th>245047</th>\n",
       "      <td>Other</td>\n",
       "      <td>Grandparents are often unable or unwilling to ...</td>\n",
       "    </tr>\n",
       "    <tr>\n",
       "      <th>245048</th>\n",
       "      <td>Other</td>\n",
       "      <td>Simply put, children in Iraq have been reduced...</td>\n",
       "    </tr>\n",
       "    <tr>\n",
       "      <th>245049</th>\n",
       "      <td>Other</td>\n",
       "      <td>We are quite literally breeding a new generati...</td>\n",
       "    </tr>\n",
       "  </tbody>\n",
       "</table>\n",
       "<p>245050 rows × 2 columns</p>\n",
       "</div>"
      ],
      "text/plain": [
       "       Author                                               Text\n",
       "0       Trump  Today we express our deepest gratitude to all ...\n",
       "1       Trump  Busy day planned in New York. Will soon be mak...\n",
       "2       Trump  Love the fact that the small groups of protest...\n",
       "3       Trump  Just had a very open and successful presidenti...\n",
       "4       Trump  A fantastic day in D.C. Met with President Oba...\n",
       "...       ...                                                ...\n",
       "245045  Other  Orphans, whose number has increased sharply ov...\n",
       "245046  Other  Having lost their homes and parents, they slee...\n",
       "245047  Other  Grandparents are often unable or unwilling to ...\n",
       "245048  Other  Simply put, children in Iraq have been reduced...\n",
       "245049  Other  We are quite literally breeding a new generati...\n",
       "\n",
       "[245050 rows x 2 columns]"
      ]
     },
     "execution_count": 10,
     "metadata": {},
     "output_type": "execute_result"
    }
   ],
   "source": [
    "df"
   ]
  },
  {
   "cell_type": "markdown",
   "metadata": {},
   "source": [
    "## **DATASET**: exploration et équilibrage"
   ]
  },
  {
   "cell_type": "markdown",
   "metadata": {},
   "source": [
    "L'ajout d'une colonne \"Other\" nécessite de l'équilibrer avec l'ensemble de données original ; pour ce faire, je calcule la moyenne des jetons pour chaque texte correspondant et je la réaligne en pourcentages en éliminant des textes au fur et à mesure."
   ]
  },
  {
   "cell_type": "code",
   "execution_count": 11,
   "metadata": {},
   "outputs": [
    {
     "data": {
      "image/png": "[encoded data removed]",
      "text/plain": [
       "<Figure size 800x800 with 1 Axes>"
      ]
     },
     "metadata": {},
     "output_type": "display_data"
    }
   ],
   "source": [
    "author_counts = df['Author'].value_counts()\n",
    "author_percentages = author_counts / author_counts.sum() * 100\n",
    "\n",
    "plt.figure(figsize=(8, 8))\n",
    "plt.pie(author_percentages, labels=author_percentages.index, autopct='%1.1f%%', startangle=140)\n",
    "plt.title('Percentage par Author')\n",
    "plt.show()\n"
   ]
  },
  {
   "cell_type": "code",
   "execution_count": 12,
   "metadata": {},
   "outputs": [
    {
     "name": "stdout",
     "output_type": "stream",
     "text": [
      "        Author  num_tokens\n",
      "0        Other   21.655930\n",
      "1  Shakespeare    7.430412\n",
      "2        Trump   66.897436\n",
      "Author\n",
      "Other          87.725362\n",
      "Shakespeare     9.250765\n",
      "Trump           3.023873\n",
      "Name: count, dtype: float64\n"
     ]
    }
   ],
   "source": [
    "def count_tokens(text):\n",
    "    return len(text.split())\n",
    "\n",
    "# Appliquer la fonction à la colonne \"Text\" pour obtenir le nombre de tokens pour chaque texte\n",
    "df['num_tokens'] = df['Text'].apply(count_tokens)\n",
    "\n",
    "# Grouper par auteur et calculer la moyenne du nombre de tokens\n",
    "average_tokens_per_author = df.groupby('Author')['num_tokens'].mean().reset_index()\n",
    "\n",
    "print(average_tokens_per_author)\n",
    "print(author_percentages)"
   ]
  },
  {
   "cell_type": "code",
   "execution_count": 23,
   "metadata": {},
   "outputs": [
    {
     "name": "stdout",
     "output_type": "stream",
     "text": [
      "Pourcentage de textes 'Other' à supprimer pour obtenir un nombre de tokens équivalent à 'Shakespeare': 96.38%\n",
      "Pourcentage de textes 'Other' à supprimer pour obtenir un nombre de tokens équivalent à 'Trump': 89.35%\n"
     ]
    }
   ],
   "source": [
    "# Dados iniciaux\n",
    "num_texts = {\n",
    "    'Other': 214971,\n",
    "    'Shakespeare': 22669,\n",
    "    'Trump': 7410\n",
    "}\n",
    "\n",
    "avg_token_count = {\n",
    "    'Other': 21.655930,\n",
    "    'Shakespeare': 7.430412,\n",
    "    'Trump': 66.897436\n",
    "}\n",
    "\n",
    "total_tokens = {\n",
    "    author: num_texts[author] * avg_token_count[author]\n",
    "    for author in num_texts\n",
    "}\n",
    "\n",
    "# Calculer la différence de tokens entre Other et Shakespeare/Trump\n",
    "diff_tokens_shakespeare = total_tokens['Other'] - total_tokens['Shakespeare']\n",
    "diff_tokens_trump = total_tokens['Other'] - total_tokens['Trump']\n",
    "\n",
    "# Calculer le pourcentage de textes Other à supprimer pour obtenir un nombre de tokens similaire à Shakespeare et Trump\n",
    "percent_to_remove_shakespeare = (diff_tokens_shakespeare / avg_token_count['Other']) / num_texts['Other'] * 100\n",
    "percent_to_remove_trump = (diff_tokens_trump / avg_token_count['Other']) / num_texts['Other'] * 100\n",
    "\n",
    "print(f\"Pourcentage de textes 'Other' à supprimer pour obtenir un nombre de tokens équivalent à 'Shakespeare': {percent_to_remove_shakespeare:.2f}%\")\n",
    "print(f\"Pourcentage de textes 'Other' à supprimer pour obtenir un nombre de tokens équivalent à 'Trump': {percent_to_remove_trump:.2f}%\")\n"
   ]
  },
  {
   "cell_type": "code",
   "execution_count": 24,
   "metadata": {},
   "outputs": [
    {
     "name": "stdout",
     "output_type": "stream",
     "text": [
      "Nombre de lignes par auteur dans le DataFrame équilibré :\n",
      "Author\n",
      "Shakespeare    22669\n",
      "Other          16971\n",
      "Trump           7410\n",
      "Name: count, dtype: int64\n"
     ]
    }
   ],
   "source": [
    "import random  # Importer le module random\n",
    "\n",
    "# Nombre de lignes à supprimer pour 'Other'\n",
    "num_to_remove = 198000\n",
    "\n",
    "# Sélectionner aléatoirement les lignes à supprimer\n",
    "rows_to_remove = df[df['Author'] == 'Other'].sample(n=num_to_remove).index\n",
    "\n",
    "# Supprimer les lignes du DataFrame\n",
    "df_balanced = df.drop(rows_to_remove)\n",
    "\n",
    "# Vérifier l'équilibre\n",
    "print(\"Nombre de lignes par auteur dans le DataFrame équilibré :\")\n",
    "print(df_balanced['Author'].value_counts())\n"
   ]
  },
  {
   "cell_type": "code",
   "execution_count": 14,
   "metadata": {},
   "outputs": [
    {
     "data": {
      "image/png": "[encoded data removed]",
      "text/plain": [
       "<Figure size 800x800 with 1 Axes>"
      ]
     },
     "metadata": {},
     "output_type": "display_data"
    }
   ],
   "source": [
    "author_counts = df_balanced['Author'].value_counts()\n",
    "author_percentages = author_counts / author_counts.sum() * 100\n",
    "\n",
    "plt.figure(figsize=(8, 8))\n",
    "plt.pie(author_percentages, labels=author_percentages.index, autopct='%1.1f%%', startangle=140)\n",
    "plt.title('Percentage par Author')\n",
    "plt.show()\n"
   ]
  },
  {
   "cell_type": "code",
   "execution_count": 16,
   "metadata": {},
   "outputs": [],
   "source": [
    "df_balanced = df_balanced.drop(columns=['num_tokens'])"
   ]
  },
  {
   "cell_type": "markdown",
   "metadata": {},
   "source": [
    "Sauvegarde du jeu de données"
   ]
  },
  {
   "cell_type": "code",
   "execution_count": 20,
   "metadata": {},
   "outputs": [],
   "source": [
    "df_balanced.to_csv('Integrated_Dataset_for_classification.csv', index=False)"
   ]
  },
  {
   "cell_type": "markdown",
   "metadata": {},
   "source": [
    "## **Dataset**: Train_Test_Split"
   ]
  },
  {
   "cell_type": "code",
   "execution_count": 25,
   "metadata": {},
   "outputs": [],
   "source": [
    "from sklearn.model_selection import train_test_split"
   ]
  },
  {
   "cell_type": "code",
   "execution_count": 28,
   "metadata": {},
   "outputs": [],
   "source": [
    "dataset_path = r\"C:\\Users\\marco\\OneDrive\\Desktop\\TXTgeneration\\Dataset\\Integrated_Dataset_for_classification.csv\"\n",
    "folder_path = r\"C:\\Users\\marco\\OneDrive\\Desktop\\TXTgeneration\\Dataset\\Divided_Dataset\""
   ]
  },
  {
   "cell_type": "code",
   "execution_count": 29,
   "metadata": {},
   "outputs": [],
   "source": [
    "# Lire le dataset à partir du fichier CSV\n",
    "df = pd.read_csv(dataset_path)\n",
    "\n",
    "# Séparons les caractéristiques de la cible\n",
    "X = df.drop(columns='Author')\n",
    "y = df['Author']\n",
    "\n",
    "# Première division : 85% pour train+validation et 15% pour test\n",
    "X_train_val, X_test, y_train_val, y_test = train_test_split(X, y, test_size=0.15, random_state=42)\n",
    "\n",
    "# Deuxième division : 85% obtenu est divisé en 70% pour train et 15% pour validation (15/85 = 0.1765)\n",
    "X_train, X_val, y_train, y_val = train_test_split(X_train_val, y_train_val, test_size=0.1765, random_state=42)\n",
    "\n",
    "# Créer les DataFrame pour chaque ensemble\n",
    "train_df = pd.concat([X_train, y_train], axis=1)\n",
    "val_df = pd.concat([X_val, y_val], axis=1)\n",
    "test_df = pd.concat([X_test, y_test], axis=1)\n",
    "\n",
    "# Sauvegarder les fichiers CSV aux emplacements respectifs\n",
    "train_path = os.path.join(folder_path, 'I_train.csv')\n",
    "val_path = os.path.join(folder_path, 'I_validation.csv')\n",
    "test_path = os.path.join(folder_path, 'I_test.csv')\n",
    "\n",
    "train_df.to_csv(train_path, index=False)\n",
    "val_df.to_csv(val_path, index=False)\n",
    "test_df.to_csv(test_path, index=False)"
   ]
  }
 ],
 "metadata": {
  "kernelspec": {
   "display_name": "Python 3",
   "language": "python",
   "name": "python3"
  },
  "language_info": {
   "codemirror_mode": {
    "name": "ipython",
    "version": 3
   },
   "file_extension": ".py",
   "mimetype": "text/x-python",
   "name": "python",
   "nbconvert_exporter": "python",
   "pygments_lexer": "ipython3",
   "version": "3.11.9"
  }
 },
 "nbformat": 4,
 "nbformat_minor": 2
}
